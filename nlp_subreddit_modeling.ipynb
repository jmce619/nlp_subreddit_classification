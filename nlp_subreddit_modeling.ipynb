{
 "cells": [
  {
   "cell_type": "markdown",
   "metadata": {},
   "source": [
    "# Classification of News Article Subreddit Posts\n",
    "### By Jamie McElhiney"
   ]
  },
  {
   "cell_type": "markdown",
   "metadata": {},
   "source": [
    "## Problem Statement "
   ]
  },
  {
   "cell_type": "markdown",
   "metadata": {},
   "source": [
    "I am a member of a news agency that promotes our content on reddit. We want to post a breaking news story ASAP on the correct news subreddit so we can get exposure and traffic on our website since all posts on the subreddit are third party links. There are 2 main news subreddits r/worldnews and r/news that are very similar. There is no clear cut topic that separates these two subreddits. We don’t want to post the article on both subreddits and hope for the best since we can be marked for spam, leading to our article being deleted and a warning from reddit. We also want to uphold our reddit reputation as people call each other out for crossposting often.   \n",
    "We are going to use these two subreddits, r/worldnews and r/news, to develop a classification model that will recommend which subreddit to post our breaking story to based on our title. We will develop three different classification models to classify our news article: LogisticRegression, Naive Bayes, and K-Nearest Neighbor. "
   ]
  },
  {
   "cell_type": "markdown",
   "metadata": {},
   "source": [
    "## Executive Summary"
   ]
  },
  {
   "cell_type": "markdown",
   "metadata": {},
   "source": [
    "We are going to be using the subreddit data scraped by our data retrieval notebook which can be found [here](../project_3/p3_DataRetrieval.ipynb). The output csv can also be directly referenced [here](../project_3/datasets/subredditdata.csv). The dataframe is concatenated from two separate scraping queries targeting our two subreddits, r/news and r/worldnews. We are going to be developing a classification model based on the title of the subreddit post so we can determine which subreddit is most appropriate for our drafted news article. We used a regular expression tokenizer to remove unwanted characters from subreddit post titles. A stemmer was implemented after cleaning titles to find common root words and more efficiently recognize patterns within our corpus.  \n",
    "So, If we are able to post the article to the more relevant subreddit, our post will receive more exposure leading to more traffic on our website and thus revenue from ads. Given the similar nature of the two subreddits, our task at hand is challenging and we did not receive many low bias models. The evaluation metric we will use in this case is accuracy, the number of correct predictions over the number of total predictions. We were able to develop a Multinomial Naive Bayes model with 65% accuracy. "
   ]
  },
  {
   "cell_type": "markdown",
   "metadata": {},
   "source": [
    "## Data"
   ]
  },
  {
   "cell_type": "markdown",
   "metadata": {},
   "source": [
    "Data was scrapped from the two subreddits:  \n",
    "[r/worldnews](https://www.reddit.com/r/worldnews/)  \n",
    "[r/news](https://www.reddit.com/r/news/)  \n",
    "For a more detailed look at our data, please check out the Data Dictionary located in the [ReadMe](../project_3)"
   ]
  },
  {
   "cell_type": "code",
   "execution_count": 1,
   "metadata": {},
   "outputs": [],
   "source": [
    "import pandas as pd\n",
    "import numpy as np\n",
    "import datetime as dt\n",
    "import time\n",
    "import requests\n",
    "import seaborn as sns\n",
    "import matplotlib.pyplot as plt\n",
    "\n",
    "from sklearn.model_selection import train_test_split,cross_val_score, GridSearchCV\n",
    "from sklearn.pipeline import Pipeline\n",
    "from sklearn.feature_extraction.text import CountVectorizer, TfidfVectorizer\n",
    "from sklearn.linear_model import LogisticRegression\n",
    "from sklearn.naive_bayes import MultinomialNB,GaussianNB\n",
    "from sklearn.metrics import confusion_matrix,roc_curve,roc_auc_score\n",
    "from sklearn.neighbors import KNeighborsClassifier\n",
    "\n",
    "from nltk.stem import PorterStemmer,WordNetLemmatizer\n",
    "from nltk.tokenize import RegexpTokenizer\n",
    "\n",
    "%matplotlib inline"
   ]
  },
  {
   "cell_type": "markdown",
   "metadata": {},
   "source": [
    "# BEFORE RUNNING"
   ]
  },
  {
   "cell_type": "markdown",
   "metadata": {},
   "source": [
    "Please run the data retrieval notebook to ensure the csv is in our datasets folder. You can run it [here](../project_3/p3_DataRetrieval.ipynb)."
   ]
  },
  {
   "cell_type": "code",
   "execution_count": 2,
   "metadata": {},
   "outputs": [],
   "source": [
    "##Lets read in our data and drop the unnecessary columns \n",
    "news=pd.read_csv('./datasets/subredditdata.csv')\n",
    "news.drop(['Unnamed: 0'],axis=1,inplace=True)"
   ]
  },
  {
   "cell_type": "markdown",
   "metadata": {},
   "source": [
    "## EDA"
   ]
  },
  {
   "cell_type": "code",
   "execution_count": 3,
   "metadata": {
    "scrolled": false
   },
   "outputs": [
    {
     "name": "stdout",
     "output_type": "stream",
     "text": [
      "(5000, 8)\n"
     ]
    },
    {
     "data": {
      "text/html": [
       "<div>\n",
       "<style scoped>\n",
       "    .dataframe tbody tr th:only-of-type {\n",
       "        vertical-align: middle;\n",
       "    }\n",
       "\n",
       "    .dataframe tbody tr th {\n",
       "        vertical-align: top;\n",
       "    }\n",
       "\n",
       "    .dataframe thead th {\n",
       "        text-align: right;\n",
       "    }\n",
       "</style>\n",
       "<table border=\"1\" class=\"dataframe\">\n",
       "  <thead>\n",
       "    <tr style=\"text-align: right;\">\n",
       "      <th></th>\n",
       "      <th>title</th>\n",
       "      <th>subreddit</th>\n",
       "      <th>created_utc</th>\n",
       "      <th>author</th>\n",
       "      <th>num_comments</th>\n",
       "      <th>score</th>\n",
       "      <th>url</th>\n",
       "      <th>timestamp</th>\n",
       "    </tr>\n",
       "  </thead>\n",
       "  <tbody>\n",
       "    <tr>\n",
       "      <th>0</th>\n",
       "      <td>@akanmaja : Hey twitz_end ✍ 👽(@twitz_end), tha...</td>\n",
       "      <td>worldnews</td>\n",
       "      <td>1577917026</td>\n",
       "      <td>micladceo</td>\n",
       "      <td>0</td>\n",
       "      <td>1</td>\n",
       "      <td>https://mobile.twitter.com/akanmaja/status/121...</td>\n",
       "      <td>2020-01-01</td>\n",
       "    </tr>\n",
       "    <tr>\n",
       "      <th>1</th>\n",
       "      <td>Former NBA Commissioner David Stern Dead at 77</td>\n",
       "      <td>worldnews</td>\n",
       "      <td>1577917066</td>\n",
       "      <td>PinheadLarry2323</td>\n",
       "      <td>2</td>\n",
       "      <td>1</td>\n",
       "      <td>https://www.tmz.com/2020/01/01/nba-commissione...</td>\n",
       "      <td>2020-01-01</td>\n",
       "    </tr>\n",
       "    <tr>\n",
       "      <th>2</th>\n",
       "      <td>إسقاط طائرة تجسسية في محور جيزان تعتبر الخامسة...</td>\n",
       "      <td>worldnews</td>\n",
       "      <td>1577917176</td>\n",
       "      <td>almshhadalyemeni</td>\n",
       "      <td>0</td>\n",
       "      <td>1</td>\n",
       "      <td>http://www.almshhadalyemeni.net/132646/</td>\n",
       "      <td>2020-01-01</td>\n",
       "    </tr>\n",
       "    <tr>\n",
       "      <th>3</th>\n",
       "      <td>Is Uber Doomed to a Point of No Return?</td>\n",
       "      <td>worldnews</td>\n",
       "      <td>1577917185</td>\n",
       "      <td>Open_c_Source</td>\n",
       "      <td>2</td>\n",
       "      <td>1</td>\n",
       "      <td>https://medium.com/@waseemezzie/uber-the-next-...</td>\n",
       "      <td>2020-01-01</td>\n",
       "    </tr>\n",
       "    <tr>\n",
       "      <th>4</th>\n",
       "      <td>Zelensky's New Year address: Everyone should a...</td>\n",
       "      <td>worldnews</td>\n",
       "      <td>1577917681</td>\n",
       "      <td>Fanrific</td>\n",
       "      <td>3</td>\n",
       "      <td>1</td>\n",
       "      <td>https://www.unian.info/society/10816211-zelens...</td>\n",
       "      <td>2020-01-01</td>\n",
       "    </tr>\n",
       "    <tr>\n",
       "      <th>5</th>\n",
       "      <td>China's Social Credit System was set to be ful...</td>\n",
       "      <td>worldnews</td>\n",
       "      <td>1577918215</td>\n",
       "      <td>nomorepostypostyno</td>\n",
       "      <td>16</td>\n",
       "      <td>1</td>\n",
       "      <td>https://www.abc.net.au/news/2020-01-02/china-s...</td>\n",
       "      <td>2020-01-01</td>\n",
       "    </tr>\n",
       "    <tr>\n",
       "      <th>6</th>\n",
       "      <td>متجر Epic Games يفتتح العام الجديد بتوفير 3 أل...</td>\n",
       "      <td>worldnews</td>\n",
       "      <td>1577918484</td>\n",
       "      <td>5thaqafah</td>\n",
       "      <td>0</td>\n",
       "      <td>1</td>\n",
       "      <td>http://5thaqafah.blogspot.com/2020/01/epic-gam...</td>\n",
       "      <td>2020-01-01</td>\n",
       "    </tr>\n",
       "    <tr>\n",
       "      <th>7</th>\n",
       "      <td>Volunteers seek support dog missing from crash...</td>\n",
       "      <td>worldnews</td>\n",
       "      <td>1577918602</td>\n",
       "      <td>USNEWS01</td>\n",
       "      <td>0</td>\n",
       "      <td>1</td>\n",
       "      <td>https://for-hashtagsusa.blogspot.com/2020/01/v...</td>\n",
       "      <td>2020-01-01</td>\n",
       "    </tr>\n",
       "    <tr>\n",
       "      <th>8</th>\n",
       "      <td>Airbus beats goal with 863 jet deliveries in 2...</td>\n",
       "      <td>worldnews</td>\n",
       "      <td>1577918758</td>\n",
       "      <td>FortuitousAdroit</td>\n",
       "      <td>9</td>\n",
       "      <td>1</td>\n",
       "      <td>https://www.reuters.com/article/us-airbus-deli...</td>\n",
       "      <td>2020-01-01</td>\n",
       "    </tr>\n",
       "    <tr>\n",
       "      <th>9</th>\n",
       "      <td>الصواريخ والمسيرات يد طولى نحـــو ترسيخ النصر ...</td>\n",
       "      <td>worldnews</td>\n",
       "      <td>1577918969</td>\n",
       "      <td>almshhadalyemeni</td>\n",
       "      <td>0</td>\n",
       "      <td>1</td>\n",
       "      <td>http://www.almshhadalyemeni.net/132658/</td>\n",
       "      <td>2020-01-01</td>\n",
       "    </tr>\n",
       "  </tbody>\n",
       "</table>\n",
       "</div>"
      ],
      "text/plain": [
       "                                               title  subreddit  created_utc  \\\n",
       "0  @akanmaja : Hey twitz_end ✍ 👽(@twitz_end), tha...  worldnews   1577917026   \n",
       "1     Former NBA Commissioner David Stern Dead at 77  worldnews   1577917066   \n",
       "2  إسقاط طائرة تجسسية في محور جيزان تعتبر الخامسة...  worldnews   1577917176   \n",
       "3            Is Uber Doomed to a Point of No Return?  worldnews   1577917185   \n",
       "4  Zelensky's New Year address: Everyone should a...  worldnews   1577917681   \n",
       "5  China's Social Credit System was set to be ful...  worldnews   1577918215   \n",
       "6  متجر Epic Games يفتتح العام الجديد بتوفير 3 أل...  worldnews   1577918484   \n",
       "7  Volunteers seek support dog missing from crash...  worldnews   1577918602   \n",
       "8  Airbus beats goal with 863 jet deliveries in 2...  worldnews   1577918758   \n",
       "9  الصواريخ والمسيرات يد طولى نحـــو ترسيخ النصر ...  worldnews   1577918969   \n",
       "\n",
       "               author  num_comments  score  \\\n",
       "0           micladceo             0      1   \n",
       "1    PinheadLarry2323             2      1   \n",
       "2    almshhadalyemeni             0      1   \n",
       "3       Open_c_Source             2      1   \n",
       "4            Fanrific             3      1   \n",
       "5  nomorepostypostyno            16      1   \n",
       "6           5thaqafah             0      1   \n",
       "7            USNEWS01             0      1   \n",
       "8    FortuitousAdroit             9      1   \n",
       "9    almshhadalyemeni             0      1   \n",
       "\n",
       "                                                 url   timestamp  \n",
       "0  https://mobile.twitter.com/akanmaja/status/121...  2020-01-01  \n",
       "1  https://www.tmz.com/2020/01/01/nba-commissione...  2020-01-01  \n",
       "2            http://www.almshhadalyemeni.net/132646/  2020-01-01  \n",
       "3  https://medium.com/@waseemezzie/uber-the-next-...  2020-01-01  \n",
       "4  https://www.unian.info/society/10816211-zelens...  2020-01-01  \n",
       "5  https://www.abc.net.au/news/2020-01-02/china-s...  2020-01-01  \n",
       "6  http://5thaqafah.blogspot.com/2020/01/epic-gam...  2020-01-01  \n",
       "7  https://for-hashtagsusa.blogspot.com/2020/01/v...  2020-01-01  \n",
       "8  https://www.reuters.com/article/us-airbus-deli...  2020-01-01  \n",
       "9            http://www.almshhadalyemeni.net/132658/  2020-01-01  "
      ]
     },
     "execution_count": 3,
     "metadata": {},
     "output_type": "execute_result"
    }
   ],
   "source": [
    "##Lets get a sense of our data getting the shape and top 10 rows\n",
    "print(news.shape)\n",
    "news.head(10)"
   ]
  },
  {
   "cell_type": "code",
   "execution_count": 4,
   "metadata": {},
   "outputs": [],
   "source": [
    "#remove unwanted strings from title column\n",
    "news['title']=news['title'].map(lambda x: x.replace('http',''))\n",
    "news['title']=news['title'].map(lambda x: x.replace('bit.ly',''))\n"
   ]
  },
  {
   "cell_type": "code",
   "execution_count": 5,
   "metadata": {},
   "outputs": [
    {
     "data": {
      "text/plain": [
       "title           object\n",
       "subreddit       object\n",
       "created_utc      int64\n",
       "author          object\n",
       "num_comments     int64\n",
       "score            int64\n",
       "url             object\n",
       "timestamp       object\n",
       "dtype: object"
      ]
     },
     "execution_count": 5,
     "metadata": {},
     "output_type": "execute_result"
    }
   ],
   "source": [
    "##lets check out the data types of our columns\n",
    "news.dtypes"
   ]
  },
  {
   "cell_type": "code",
   "execution_count": 6,
   "metadata": {
    "scrolled": false
   },
   "outputs": [
    {
     "data": {
      "text/plain": [
       "title           0\n",
       "subreddit       0\n",
       "created_utc     0\n",
       "author          0\n",
       "num_comments    0\n",
       "score           0\n",
       "url             0\n",
       "timestamp       0\n",
       "dtype: int64"
      ]
     },
     "execution_count": 6,
     "metadata": {},
     "output_type": "execute_result"
    }
   ],
   "source": [
    "##Lets check if there are any nulls. Self text will be null since all of our posts are just links.\n",
    "news.isnull().sum()"
   ]
  },
  {
   "cell_type": "code",
   "execution_count": 7,
   "metadata": {},
   "outputs": [],
   "source": [
    "#Lets set our timestamp data type to actual datetime data type just in case. \n",
    "news['timestamp']=pd.to_datetime(news['timestamp'])"
   ]
  },
  {
   "cell_type": "markdown",
   "metadata": {},
   "source": [
    "### Pre-Processing/Feature Engineering"
   ]
  },
  {
   "cell_type": "markdown",
   "metadata": {},
   "source": [
    "We can use a tokenizer to split our title, which is a string, into multiple substrings of just the words we want. We can use regular expression to include only alphanumerics, getting rid of unwanted words. "
   ]
  },
  {
   "cell_type": "code",
   "execution_count": 8,
   "metadata": {},
   "outputs": [],
   "source": [
    "tokenizer=RegexpTokenizer(r'\\w+')##instantiate regeular expression tokenizer that returns only alphanumerics\n",
    "p_stemmer=PorterStemmer()##instantiate stemmer"
   ]
  },
  {
   "cell_type": "markdown",
   "metadata": {},
   "source": [
    "Stemming is a way of producing the root of a word. Such as 'operation' and 'operate' would both go to operat. We are going with stemming over lemmatizing in this case; it is a more crude method but will help with reducing features and recognizing trends. "
   ]
  },
  {
   "cell_type": "code",
   "execution_count": 9,
   "metadata": {},
   "outputs": [],
   "source": [
    "stemmed_title=[]##Create empty list to append stemmed title\n",
    "for title in news['title']:##iterate through our title columns\n",
    "    tokens=tokenizer.tokenize(title.lower())\n",
    "    '''tokenize our LOWERCASE title since our computer knows the difference between\n",
    "    upper and lower case so we want everything on the same case so our CountVec is more efficient'''\n",
    "    stemmer=[p_stemmer.stem(token) for token in tokens]\n",
    "    stemmed_title.append(\" \".join(stemmer))##from lesson 5.03-nlp1\n",
    "news['stemmed_title']=stemmed_title   "
   ]
  },
  {
   "cell_type": "code",
   "execution_count": 10,
   "metadata": {
    "scrolled": false
   },
   "outputs": [
    {
     "data": {
      "text/html": [
       "<div>\n",
       "<style scoped>\n",
       "    .dataframe tbody tr th:only-of-type {\n",
       "        vertical-align: middle;\n",
       "    }\n",
       "\n",
       "    .dataframe tbody tr th {\n",
       "        vertical-align: top;\n",
       "    }\n",
       "\n",
       "    .dataframe thead th {\n",
       "        text-align: right;\n",
       "    }\n",
       "</style>\n",
       "<table border=\"1\" class=\"dataframe\">\n",
       "  <thead>\n",
       "    <tr style=\"text-align: right;\">\n",
       "      <th></th>\n",
       "      <th>title</th>\n",
       "      <th>subreddit</th>\n",
       "      <th>created_utc</th>\n",
       "      <th>author</th>\n",
       "      <th>num_comments</th>\n",
       "      <th>score</th>\n",
       "      <th>url</th>\n",
       "      <th>timestamp</th>\n",
       "      <th>stemmed_title</th>\n",
       "    </tr>\n",
       "  </thead>\n",
       "  <tbody>\n",
       "    <tr>\n",
       "      <th>0</th>\n",
       "      <td>@akanmaja : Hey twitz_end ✍ 👽(@twitz_end), tha...</td>\n",
       "      <td>worldnews</td>\n",
       "      <td>1577917026</td>\n",
       "      <td>micladceo</td>\n",
       "      <td>0</td>\n",
       "      <td>1</td>\n",
       "      <td>https://mobile.twitter.com/akanmaja/status/121...</td>\n",
       "      <td>2020-01-01</td>\n",
       "      <td>akanmaja hey twitz_end twitz_end thank you for...</td>\n",
       "    </tr>\n",
       "    <tr>\n",
       "      <th>1</th>\n",
       "      <td>Former NBA Commissioner David Stern Dead at 77</td>\n",
       "      <td>worldnews</td>\n",
       "      <td>1577917066</td>\n",
       "      <td>PinheadLarry2323</td>\n",
       "      <td>2</td>\n",
       "      <td>1</td>\n",
       "      <td>https://www.tmz.com/2020/01/01/nba-commissione...</td>\n",
       "      <td>2020-01-01</td>\n",
       "      <td>former nba commission david stern dead at 77</td>\n",
       "    </tr>\n",
       "    <tr>\n",
       "      <th>2</th>\n",
       "      <td>إسقاط طائرة تجسسية في محور جيزان تعتبر الخامسة...</td>\n",
       "      <td>worldnews</td>\n",
       "      <td>1577917176</td>\n",
       "      <td>almshhadalyemeni</td>\n",
       "      <td>0</td>\n",
       "      <td>1</td>\n",
       "      <td>http://www.almshhadalyemeni.net/132646/</td>\n",
       "      <td>2020-01-01</td>\n",
       "      <td>إسقاط طائرة تجسسية في محور جيزان تعتبر الخامسة...</td>\n",
       "    </tr>\n",
       "    <tr>\n",
       "      <th>3</th>\n",
       "      <td>Is Uber Doomed to a Point of No Return?</td>\n",
       "      <td>worldnews</td>\n",
       "      <td>1577917185</td>\n",
       "      <td>Open_c_Source</td>\n",
       "      <td>2</td>\n",
       "      <td>1</td>\n",
       "      <td>https://medium.com/@waseemezzie/uber-the-next-...</td>\n",
       "      <td>2020-01-01</td>\n",
       "      <td>is uber doom to a point of no return</td>\n",
       "    </tr>\n",
       "    <tr>\n",
       "      <th>4</th>\n",
       "      <td>Zelensky's New Year address: Everyone should a...</td>\n",
       "      <td>worldnews</td>\n",
       "      <td>1577917681</td>\n",
       "      <td>Fanrific</td>\n",
       "      <td>3</td>\n",
       "      <td>1</td>\n",
       "      <td>https://www.unian.info/society/10816211-zelens...</td>\n",
       "      <td>2020-01-01</td>\n",
       "      <td>zelenski s new year address everyon should ans...</td>\n",
       "    </tr>\n",
       "  </tbody>\n",
       "</table>\n",
       "</div>"
      ],
      "text/plain": [
       "                                               title  subreddit  created_utc  \\\n",
       "0  @akanmaja : Hey twitz_end ✍ 👽(@twitz_end), tha...  worldnews   1577917026   \n",
       "1     Former NBA Commissioner David Stern Dead at 77  worldnews   1577917066   \n",
       "2  إسقاط طائرة تجسسية في محور جيزان تعتبر الخامسة...  worldnews   1577917176   \n",
       "3            Is Uber Doomed to a Point of No Return?  worldnews   1577917185   \n",
       "4  Zelensky's New Year address: Everyone should a...  worldnews   1577917681   \n",
       "\n",
       "             author  num_comments  score  \\\n",
       "0         micladceo             0      1   \n",
       "1  PinheadLarry2323             2      1   \n",
       "2  almshhadalyemeni             0      1   \n",
       "3     Open_c_Source             2      1   \n",
       "4          Fanrific             3      1   \n",
       "\n",
       "                                                 url  timestamp  \\\n",
       "0  https://mobile.twitter.com/akanmaja/status/121... 2020-01-01   \n",
       "1  https://www.tmz.com/2020/01/01/nba-commissione... 2020-01-01   \n",
       "2            http://www.almshhadalyemeni.net/132646/ 2020-01-01   \n",
       "3  https://medium.com/@waseemezzie/uber-the-next-... 2020-01-01   \n",
       "4  https://www.unian.info/society/10816211-zelens... 2020-01-01   \n",
       "\n",
       "                                       stemmed_title  \n",
       "0  akanmaja hey twitz_end twitz_end thank you for...  \n",
       "1       former nba commission david stern dead at 77  \n",
       "2  إسقاط طائرة تجسسية في محور جيزان تعتبر الخامسة...  \n",
       "3               is uber doom to a point of no return  \n",
       "4  zelenski s new year address everyon should ans...  "
      ]
     },
     "execution_count": 10,
     "metadata": {},
     "output_type": "execute_result"
    }
   ],
   "source": [
    "news.head(5)"
   ]
  },
  {
   "cell_type": "code",
   "execution_count": 11,
   "metadata": {},
   "outputs": [],
   "source": [
    "##We are going to get a stemmed word count bar chart of paired words so lets instantiate a count vectorizer for ths.\n",
    "cvec=CountVectorizer(stop_words='english',ngram_range=(2,2))#we want pairs of words so ngram_range=(2,2)\n",
    "v_text=cvec.fit_transform(news['stemmed_title'])#fit our count vectorizer to our stemmed title column\n",
    "type(v_text)\n",
    "news_sparse=pd.DataFrame(v_text.toarray(),columns=cvec.get_feature_names())\n",
    "#we need to use .toarray() on our fit count vectorizer since it is still in matrix form"
   ]
  },
  {
   "cell_type": "code",
   "execution_count": 12,
   "metadata": {},
   "outputs": [
    {
     "data": {
      "text/plain": [
       "(5000, 30143)"
      ]
     },
     "execution_count": 12,
     "metadata": {},
     "output_type": "execute_result"
    }
   ],
   "source": [
    "news_sparse.shape"
   ]
  },
  {
   "cell_type": "code",
   "execution_count": 13,
   "metadata": {},
   "outputs": [],
   "source": [
    "#Now lets make a data frame of our word pairs descending from most frequent to least. Grab the top 30. \n",
    "freq=pd.DataFrame(news_sparse.sum().sort_values(ascending=False).head(30),columns=['count'])"
   ]
  },
  {
   "cell_type": "code",
   "execution_count": 14,
   "metadata": {},
   "outputs": [],
   "source": [
    "def word_freq(data,subreddit):## Lets make a function for a frequency graph since we are going to be using it a few times\n",
    "    plt.figure(figsize=(10,10))\n",
    "    sns.barplot(data=data,x='count',y=freq.index)\n",
    "    plt.title(f'Paired Word Frequency ({subreddit})')\n",
    "    plt.ylabel('Word Pairs')"
   ]
  },
  {
   "cell_type": "code",
   "execution_count": 15,
   "metadata": {},
   "outputs": [
    {
     "data": {
      "image/png": "[encoded data removed]",
      "text/plain": [
       "<Figure size 720x720 with 1 Axes>"
      ]
     },
     "metadata": {
      "needs_background": "light"
     },
     "output_type": "display_data"
    }
   ],
   "source": [
    "word_freq(freq,'Both Subreddits')"
   ]
  },
  {
   "cell_type": "code",
   "execution_count": 16,
   "metadata": {},
   "outputs": [],
   "source": [
    "cvec=CountVectorizer(stop_words='english',ngram_range=(2,2))\n",
    "v_text=cvec.fit_transform(news[news['subreddit']=='worldnews']['stemmed_title'])\n",
    "news_sparse=pd.DataFrame(v_text.toarray(),columns=cvec.get_feature_names())"
   ]
  },
  {
   "cell_type": "code",
   "execution_count": 17,
   "metadata": {},
   "outputs": [],
   "source": [
    "freq1=pd.DataFrame(news_sparse.sum().sort_values(ascending=False).head(30),columns=['count'])"
   ]
  },
  {
   "cell_type": "code",
   "execution_count": 18,
   "metadata": {},
   "outputs": [
    {
     "data": {
      "image/png": "[encoded data removed]",
      "text/plain": [
       "<Figure size 720x720 with 1 Axes>"
      ]
     },
     "metadata": {
      "needs_background": "light"
     },
     "output_type": "display_data"
    }
   ],
   "source": [
    "word_freq(freq1,'Worldnews subreddit')"
   ]
  },
  {
   "cell_type": "code",
   "execution_count": 19,
   "metadata": {},
   "outputs": [],
   "source": [
    "cvec=CountVectorizer(stop_words='english',ngram_range=(2,2))\n",
    "v_text=cvec.fit_transform(news[news['subreddit']=='news']['stemmed_title'])\n",
    "news_sparse=pd.DataFrame(v_text.toarray(),columns=cvec.get_feature_names())"
   ]
  },
  {
   "cell_type": "code",
   "execution_count": 20,
   "metadata": {},
   "outputs": [],
   "source": [
    "freq2=pd.DataFrame(news_sparse.sum().sort_values(ascending=False).head(30),columns=['count'])"
   ]
  },
  {
   "cell_type": "code",
   "execution_count": 21,
   "metadata": {},
   "outputs": [
    {
     "data": {
      "image/png": "[encoded data removed]",
      "text/plain": [
       "<Figure size 720x720 with 1 Axes>"
      ]
     },
     "metadata": {
      "needs_background": "light"
     },
     "output_type": "display_data"
    }
   ],
   "source": [
    "word_freq(freq2,'News Subreddit')"
   ]
  },
  {
   "cell_type": "markdown",
   "metadata": {},
   "source": [
    "## Modeling"
   ]
  },
  {
   "cell_type": "code",
   "execution_count": 22,
   "metadata": {},
   "outputs": [],
   "source": [
    "##Lets set up our y-variable. Setting subreddit worldnews to 1 and news to 0"
   ]
  },
  {
   "cell_type": "code",
   "execution_count": 23,
   "metadata": {},
   "outputs": [],
   "source": [
    "news['subreddit']=news['subreddit'].map({'worldnews':1,'news':0})"
   ]
  },
  {
   "cell_type": "code",
   "execution_count": 24,
   "metadata": {},
   "outputs": [],
   "source": [
    "y=news['subreddit']"
   ]
  },
  {
   "cell_type": "code",
   "execution_count": 25,
   "metadata": {
    "scrolled": true
   },
   "outputs": [
    {
     "data": {
      "text/plain": [
       "1    0.5\n",
       "0    0.5\n",
       "Name: subreddit, dtype: float64"
      ]
     },
     "execution_count": 25,
     "metadata": {},
     "output_type": "execute_result"
    }
   ],
   "source": [
    "#Lets see the class split. Totally even.\n",
    "y.value_counts(normalize=True)"
   ]
  },
  {
   "cell_type": "code",
   "execution_count": 26,
   "metadata": {},
   "outputs": [],
   "source": [
    "#Our X variable will be our stemmed title. \n",
    "X=news['stemmed_title']"
   ]
  },
  {
   "cell_type": "markdown",
   "metadata": {},
   "source": [
    "### Baseline Model"
   ]
  },
  {
   "cell_type": "code",
   "execution_count": 27,
   "metadata": {},
   "outputs": [
    {
     "data": {
      "text/plain": [
       "1    0.5\n",
       "0    0.5\n",
       "Name: subreddit, dtype: float64"
      ]
     },
     "execution_count": 27,
     "metadata": {},
     "output_type": "execute_result"
    }
   ],
   "source": [
    "#Our baseline model has an accuracy of 50% (the majority class)\n",
    "y.value_counts(normalize=True)"
   ]
  },
  {
   "cell_type": "code",
   "execution_count": 28,
   "metadata": {},
   "outputs": [],
   "source": [
    "#Lets get a train test split going, using random state 42\n",
    "X_train,X_test,y_train,y_test=train_test_split(X,y,random_state=42)"
   ]
  },
  {
   "cell_type": "markdown",
   "metadata": {},
   "source": [
    "### Cvec-Logistic Regression Model"
   ]
  },
  {
   "cell_type": "markdown",
   "metadata": {},
   "source": [
    "We are going to implement a gridsearch which we'll fit over multiple combinations of parameters. We will be using CountVectorizer on our subreddit title to count our stemmed words, and then using logistic regression as our classifier. We will GridSearch over max features, ngram range and stopwords for our CountVectorizer parameters. We will also search over our logistic penalty (ridge or lasso) and our alpha penalty coefficient (inverse C). "
   ]
  },
  {
   "cell_type": "code",
   "execution_count": 29,
   "metadata": {},
   "outputs": [],
   "source": [
    "\n",
    "pipe1=Pipeline([('cvec',CountVectorizer()),('lr',LogisticRegression(solver='liblinear'))])\n",
    "pipe_params1={\n",
    "    'cvec__max_features':[10,50],\n",
    "    'cvec__ngram_range':[(1,1),(1,2)],\n",
    "    'cvec__stop_words':['english',None],\n",
    "     'lr__penalty':['l1','l2'],\n",
    "     'lr__C':[0.01,0.1,1,10]\n",
    "}"
   ]
  },
  {
   "cell_type": "code",
   "execution_count": 30,
   "metadata": {},
   "outputs": [],
   "source": [
    "gs1=GridSearchCV(pipe1,pipe_params1,scoring='accuracy',cv=5)\n",
    "#We will use accuracy as our scoring metric, and set cv=5"
   ]
  },
  {
   "cell_type": "code",
   "execution_count": 31,
   "metadata": {
    "scrolled": true
   },
   "outputs": [
    {
     "data": {
      "text/plain": [
       "{'cvec__max_features': 50,\n",
       " 'cvec__ngram_range': (1, 1),\n",
       " 'cvec__stop_words': None,\n",
       " 'lr__C': 10,\n",
       " 'lr__penalty': 'l1'}"
      ]
     },
     "execution_count": 31,
     "metadata": {},
     "output_type": "execute_result"
    }
   ],
   "source": [
    "gs1=gs1.fit(X_train,y_train)\n",
    "gs1.best_params_\n"
   ]
  },
  {
   "cell_type": "markdown",
   "metadata": {},
   "source": [
    "We can see above which parameters gave us our best accuracy score. "
   ]
  },
  {
   "cell_type": "code",
   "execution_count": 32,
   "metadata": {
    "scrolled": true
   },
   "outputs": [
    {
     "name": "stdout",
     "output_type": "stream",
     "text": [
      "0.6469333333333334\n",
      "0.6336\n"
     ]
    }
   ],
   "source": [
    "print(gs1.score(X_train,y_train))\n",
    "print(gs1.score(X_test,y_test))"
   ]
  },
  {
   "cell_type": "markdown",
   "metadata": {},
   "source": [
    "Seemingly high bias, and low variance for our first logistic regression"
   ]
  },
  {
   "cell_type": "markdown",
   "metadata": {},
   "source": [
    "### Tfidf-Logistic Regression Model"
   ]
  },
  {
   "cell_type": "markdown",
   "metadata": {},
   "source": [
    "Now we will use our TfidfVectorizer vectorizer which gives a score as opposed to a count based on the relative appearance of each vectorized word. "
   ]
  },
  {
   "cell_type": "code",
   "execution_count": 33,
   "metadata": {},
   "outputs": [],
   "source": [
    "pipe2=Pipeline([('tvec',TfidfVectorizer()),('lr',LogisticRegression(solver='liblinear'))])\n",
    "pipe_params2={\n",
    "    'tvec__max_features':[10,50],\n",
    "    'tvec__ngram_range':[(1,1),(1,2)],\n",
    "    'tvec__stop_words':['english',None],\n",
    "     'lr__penalty':['l1','l2'],\n",
    "     'lr__C':[0.01,0.1,10,100]\n",
    "}"
   ]
  },
  {
   "cell_type": "code",
   "execution_count": 34,
   "metadata": {},
   "outputs": [],
   "source": [
    "gs2=GridSearchCV(pipe2,pipe_params2,scoring='accuracy',cv=5)"
   ]
  },
  {
   "cell_type": "code",
   "execution_count": 35,
   "metadata": {
    "scrolled": true
   },
   "outputs": [
    {
     "data": {
      "text/plain": [
       "{'lr__C': 100,\n",
       " 'lr__penalty': 'l1',\n",
       " 'tvec__max_features': 50,\n",
       " 'tvec__ngram_range': (1, 2),\n",
       " 'tvec__stop_words': None}"
      ]
     },
     "execution_count": 35,
     "metadata": {},
     "output_type": "execute_result"
    }
   ],
   "source": [
    "gs2=gs2.fit(X_train,y_train)\n",
    "gs2.best_params_"
   ]
  },
  {
   "cell_type": "markdown",
   "metadata": {},
   "source": [
    "Parameters are slightly difference, ngram_range is (1,1) and our alpha is 0.1 "
   ]
  },
  {
   "cell_type": "code",
   "execution_count": 36,
   "metadata": {
    "scrolled": true
   },
   "outputs": [
    {
     "name": "stdout",
     "output_type": "stream",
     "text": [
      "0.6402666666666667\n",
      "0.636\n"
     ]
    }
   ],
   "source": [
    "print(gs2.score(X_train,y_train))\n",
    "print(gs2.score(X_test,y_test))"
   ]
  },
  {
   "cell_type": "markdown",
   "metadata": {},
   "source": [
    "Our scores improved!"
   ]
  },
  {
   "cell_type": "markdown",
   "metadata": {},
   "source": [
    "### Multinomial Naive Bayes Model"
   ]
  },
  {
   "cell_type": "markdown",
   "metadata": {},
   "source": [
    "Third model we are going to use a Multinomial Naive Bayes. We have to set it up with CountVectorizer since MNB classifiers only accept positive integers so Tfidf is out of the question. "
   ]
  },
  {
   "cell_type": "code",
   "execution_count": 37,
   "metadata": {},
   "outputs": [],
   "source": [
    "pipe3=Pipeline([('cvec',CountVectorizer()),('mnb',MultinomialNB())])\n",
    "pipe_params3={'cvec__max_features':[100,500],\n",
    "            'cvec__ngram_range':[(1,1),(1,2)],\n",
    "             'cvec__stop_words':['english',None]}"
   ]
  },
  {
   "cell_type": "code",
   "execution_count": 38,
   "metadata": {},
   "outputs": [],
   "source": [
    "gs3=GridSearchCV(pipe3,pipe_params3,scoring='accuracy',cv=5)"
   ]
  },
  {
   "cell_type": "code",
   "execution_count": 39,
   "metadata": {},
   "outputs": [
    {
     "data": {
      "text/plain": [
       "{'cvec__max_features': 500,\n",
       " 'cvec__ngram_range': (1, 1),\n",
       " 'cvec__stop_words': 'english'}"
      ]
     },
     "execution_count": 39,
     "metadata": {},
     "output_type": "execute_result"
    }
   ],
   "source": [
    "gs3.fit(X_train,y_train)\n",
    "gs3.best_params_"
   ]
  },
  {
   "cell_type": "code",
   "execution_count": 40,
   "metadata": {
    "scrolled": true
   },
   "outputs": [
    {
     "name": "stdout",
     "output_type": "stream",
     "text": [
      "0.7138666666666666\n",
      "0.6576\n"
     ]
    }
   ],
   "source": [
    "print(gs3.score(X_train,y_train))\n",
    "print(gs3.score(X_test,y_test))"
   ]
  },
  {
   "cell_type": "markdown",
   "metadata": {},
   "source": [
    "This is our high scoring model yet. Relatively low bias and relatively low variance. "
   ]
  },
  {
   "cell_type": "markdown",
   "metadata": {},
   "source": [
    "### k-Nearest Neighbor Model"
   ]
  },
  {
   "cell_type": "markdown",
   "metadata": {},
   "source": [
    "Last model we will look at is a k-Nearest Neighbor model. "
   ]
  },
  {
   "cell_type": "code",
   "execution_count": 41,
   "metadata": {},
   "outputs": [],
   "source": [
    "pipe4=Pipeline([('cvec',CountVectorizer()),('knn',KNeighborsClassifier())])\n",
    "pipe_params4={'cvec__max_features':[100,500],\n",
    "            'cvec__ngram_range':[(1,1),(1,2)],\n",
    "             'cvec__stop_words':['english',None],\n",
    "             'knn__n_neighbors':[3,5,7]}"
   ]
  },
  {
   "cell_type": "markdown",
   "metadata": {},
   "source": [
    "We'll look at 3 different neighbor values, odd values mainly since we dont want to end up with a tie. "
   ]
  },
  {
   "cell_type": "code",
   "execution_count": 42,
   "metadata": {},
   "outputs": [],
   "source": [
    "gs4=GridSearchCV(pipe4,pipe_params4,scoring='accuracy',cv=5)"
   ]
  },
  {
   "cell_type": "code",
   "execution_count": 43,
   "metadata": {},
   "outputs": [
    {
     "data": {
      "text/plain": [
       "{'cvec__max_features': 100,\n",
       " 'cvec__ngram_range': (1, 1),\n",
       " 'cvec__stop_words': 'english',\n",
       " 'knn__n_neighbors': 7}"
      ]
     },
     "execution_count": 43,
     "metadata": {},
     "output_type": "execute_result"
    }
   ],
   "source": [
    "gs4.fit(X_train,y_train)\n",
    "gs4.best_params_"
   ]
  },
  {
   "cell_type": "code",
   "execution_count": 44,
   "metadata": {},
   "outputs": [
    {
     "name": "stdout",
     "output_type": "stream",
     "text": [
      "0.6725333333333333\n",
      "0.6048\n"
     ]
    }
   ],
   "source": [
    "print(gs4.score(X_train,y_train))\n",
    "print(gs4.score(X_test,y_test))"
   ]
  },
  {
   "cell_type": "markdown",
   "metadata": {},
   "source": [
    "Pretty high variance, we dont want to use this model . "
   ]
  },
  {
   "cell_type": "markdown",
   "metadata": {},
   "source": [
    "|Model|Vectorizer|Train Score|Test Score|\n",
    "|---|---|---|---|\n",
    "|Logistic|cVec|0.6397|0.6344|\n",
    "|Logistic|tVec|0.648|0.6392|\n",
    "|kNN|cVec|0.6824|0.5568|\n",
    "|MNB|cVec|0.7112|0.6824|"
   ]
  },
  {
   "cell_type": "markdown",
   "metadata": {},
   "source": [
    "Looking at our model score chart, it seems pretty clear our highest performing model was our Multinomial Naive Bayes model. Lets look further into it with some evaluation metrics and graphs."
   ]
  },
  {
   "cell_type": "markdown",
   "metadata": {},
   "source": [
    "## Model Evaluation"
   ]
  },
  {
   "cell_type": "markdown",
   "metadata": {},
   "source": [
    "### Confusion Matrix"
   ]
  },
  {
   "cell_type": "markdown",
   "metadata": {},
   "source": [
    "We are going to be evaluating our best model, Multinomal Naive Bayes"
   ]
  },
  {
   "cell_type": "code",
   "execution_count": 45,
   "metadata": {},
   "outputs": [],
   "source": [
    "#https://stackoverflow.com/questions/19233771/sklearn-plot-confusion-matrix-with-labels\n",
    "#AND \n",
    "#https://scikit-learn.org/stable/modules/model_evaluation.html#confusion-matrix"
   ]
  },
  {
   "cell_type": "code",
   "execution_count": 46,
   "metadata": {},
   "outputs": [],
   "source": [
    "y_pred=gs3.predict(X_test)"
   ]
  },
  {
   "cell_type": "code",
   "execution_count": 47,
   "metadata": {},
   "outputs": [
    {
     "data": {
      "text/plain": [
       "array([1, 0, 0, ..., 0, 0, 0])"
      ]
     },
     "execution_count": 47,
     "metadata": {},
     "output_type": "execute_result"
    }
   ],
   "source": [
    "y_pred"
   ]
  },
  {
   "cell_type": "code",
   "execution_count": 48,
   "metadata": {},
   "outputs": [],
   "source": [
    "TN,FP,FN,TP=confusion_matrix(y_test,y_pred).ravel()"
   ]
  },
  {
   "cell_type": "markdown",
   "metadata": {},
   "source": [
    "Setting up our confusion matrix. .ravel() just returns the 2x2 matrix as a 1D array so we can assign our metrics easily."
   ]
  },
  {
   "cell_type": "code",
   "execution_count": 49,
   "metadata": {},
   "outputs": [
    {
     "name": "stdout",
     "output_type": "stream",
     "text": [
      "TN = 464\n"
     ]
    }
   ],
   "source": [
    "print(f'TN = {TN}')"
   ]
  },
  {
   "cell_type": "code",
   "execution_count": 50,
   "metadata": {},
   "outputs": [],
   "source": [
    "cm = confusion_matrix(y_test, y_pred)"
   ]
  },
  {
   "cell_type": "code",
   "execution_count": 51,
   "metadata": {},
   "outputs": [],
   "source": [
    "import matplotlib"
   ]
  },
  {
   "cell_type": "code",
   "execution_count": 52,
   "metadata": {
    "scrolled": false
   },
   "outputs": [
    {
     "data": {
      "text/plain": [
       "[Text(0, 0.5, 'news'), Text(0, 1.5, 'worldnews')]"
      ]
     },
     "execution_count": 52,
     "metadata": {},
     "output_type": "execute_result"
    },
    {
     "data": {
      "image/png": "[encoded data removed]",
      "text/plain": [
       "<Figure size 504x504 with 1 Axes>"
      ]
     },
     "metadata": {
      "needs_background": "light"
     },
     "output_type": "display_data"
    }
   ],
   "source": [
    "plt.figure(figsize=(7,7))\n",
    "ax=plt.subplot()\n",
    "akws = {'ha': 'center','va': 'center'}\n",
    "sns.heatmap(cm, annot=True, cbar=False,ax = ax,fmt='1g',\n",
    "            annot_kws=akws,cmap='BuGn_r'\n",
    "            \n",
    "            \n",
    "           ); #annot=True to annotate cells\n",
    "ax.set_xlabel('Predicted')\n",
    "ax.set_ylabel('True')\n",
    "ax.set_title('Confusion Matrix')\n",
    "ax.xaxis.set_ticklabels(['news','worldnews']) \n",
    "ax.yaxis.set_ticklabels(['news','worldnews'])\n"
   ]
  },
  {
   "cell_type": "markdown",
   "metadata": {},
   "source": [
    "Confusion Matrix) We have worldnews subreddit set up with value 1 and news set up with 0 so our Positive is worldnews and our Negative is news. So our True Positives, 399 , is the number of times our MNB correctly predicted the post was in world news. Our True Negatives, 454, is the number of times our MNB correctly predicted the post was in news. Our False Positives, 170, is the number of times our MNB predicted worldnews when it was news. and False Negatives, 227, is the number of times news was predicted when it was worldnews. "
   ]
  },
  {
   "cell_type": "markdown",
   "metadata": {},
   "source": [
    "Lets Calculate Some Metrics:"
   ]
  },
  {
   "cell_type": "code",
   "execution_count": 53,
   "metadata": {},
   "outputs": [
    {
     "name": "stdout",
     "output_type": "stream",
     "text": [
      "Sensitivity = 0.5718849840255591\n",
      "Specificity = 0.7435897435897436\n",
      "Accuracy = 0.6576\n",
      "Missclassification = 0.3424\n"
     ]
    }
   ],
   "source": [
    "print(f'Sensitivity = {TP/(TP+FN)}')\n",
    "print(f'Specificity = {TN/(TN+FP)}')\n",
    "print(f'Accuracy = {(TP+TN)/(TN+FP+TP+FN)}')\n",
    "print(f'Missclassification = {(FP+FN)/(TN+FP+TP+FN)}')"
   ]
  },
  {
   "cell_type": "code",
   "execution_count": 54,
   "metadata": {},
   "outputs": [],
   "source": [
    "Sensitivity=TP/(TP+FN)"
   ]
  },
  {
   "cell_type": "code",
   "execution_count": 55,
   "metadata": {},
   "outputs": [],
   "source": [
    "Specificity=TN/(TN+FP)"
   ]
  },
  {
   "cell_type": "markdown",
   "metadata": {},
   "source": [
    "## ROC Curve"
   ]
  },
  {
   "cell_type": "code",
   "execution_count": 56,
   "metadata": {},
   "outputs": [],
   "source": [
    "##Used 4.04-lesson-classification-metrics-ii ROC curve example"
   ]
  },
  {
   "cell_type": "code",
   "execution_count": 57,
   "metadata": {},
   "outputs": [],
   "source": [
    "pred_proba=[i[1] for i in gs3.predict_proba(X_test)]"
   ]
  },
  {
   "cell_type": "code",
   "execution_count": 58,
   "metadata": {},
   "outputs": [],
   "source": [
    "pred_df=pd.DataFrame({'true_values':y_test,'pred_probs':pred_proba})"
   ]
  },
  {
   "cell_type": "code",
   "execution_count": 59,
   "metadata": {},
   "outputs": [
    {
     "data": {
      "text/plain": [
       "[<matplotlib.lines.Line2D at 0x7fa2ea885f90>]"
      ]
     },
     "execution_count": 59,
     "metadata": {},
     "output_type": "execute_result"
    },
    {
     "data": {
      "image/png": "[encoded data removed]",
      "text/plain": [
       "<Figure size 720x504 with 1 Axes>"
      ]
     },
     "metadata": {
      "needs_background": "light"
     },
     "output_type": "display_data"
    }
   ],
   "source": [
    "plt.figure(figsize = (10,7))\n",
    "\n",
    "# Create threshold values.\n",
    "thresholds = np.linspace(0, 1, 200)\n",
    "\n",
    "# Define function to calculate sensitivity. (True positive rate.)\n",
    "def TPR(df, true_col, pred_prob_col, threshold):\n",
    "    true_positive = df[(df[true_col] == 1) & (df[pred_prob_col] >= threshold)].shape[0]\n",
    "    false_negative = df[(df[true_col] == 1) & (df[pred_prob_col] < threshold)].shape[0]\n",
    "    return true_positive / (true_positive + false_negative)\n",
    "    \n",
    "\n",
    "# Define function to calculate 1 - specificity. (False positive rate.)\n",
    "def FPR(df, true_col, pred_prob_col, threshold):\n",
    "    true_negative = df[(df[true_col] == 0) & (df[pred_prob_col] <= threshold)].shape[0]\n",
    "    false_positive = df[(df[true_col] == 0) & (df[pred_prob_col] > threshold)].shape[0]\n",
    "    return 1 - (true_negative / (true_negative + false_positive))\n",
    "    \n",
    "# Calculate sensitivity & 1-specificity for each threshold between 0 and 1.\n",
    "tpr_values = [TPR(pred_df, 'true_values', 'pred_probs', prob) for prob in thresholds]\n",
    "fpr_values = [FPR(pred_df, 'true_values', 'pred_probs', prob) for prob in thresholds]\n",
    "\n",
    "# Plot ROC curve.\n",
    "plt.plot(fpr_values, # False Positive Rate on X-axis\n",
    "         tpr_values, # True Positive Rate on Y-axis\n",
    "         label='ROC Curve')\n",
    "\n",
    "# Plot baseline. (Perfect overlap between the two populations.)\n",
    "plt.plot(np.linspace(0, 1, 200),\n",
    "         np.linspace(0, 1, 200),\n",
    "         label='baseline',\n",
    "         linestyle='--')\n",
    "\n",
    "# Label axes.\n",
    "plt.title('Receiver Operating Characteristic Curve', fontsize=22)\n",
    "plt.ylabel('Sensitivity', fontsize=18)\n",
    "plt.xlabel('1 - Specificity', fontsize=18)\n",
    "\n",
    "# Create legend.\n",
    "\n",
    "\n",
    "plt.legend(fontsize=16)\n",
    "#Get optimal point\n",
    "plt.plot([1-Specificity], [Sensitivity], marker='o', markersize=5, color=\"red\")\n"
   ]
  },
  {
   "cell_type": "code",
   "execution_count": 60,
   "metadata": {},
   "outputs": [
    {
     "data": {
      "text/plain": [
       "0.6992645101171459"
      ]
     },
     "execution_count": 60,
     "metadata": {},
     "output_type": "execute_result"
    }
   ],
   "source": [
    "roc_auc_score(pred_df['true_values'],pred_df['pred_probs'])"
   ]
  },
  {
   "cell_type": "markdown",
   "metadata": {},
   "source": [
    "ROC Curve) Our ROC Curve represents the trade off between Specificity and Sensitivity. If we arent emphasizing these metrics (we arent) and want to maximize these two metric which will optimize our class separation.  We want the point along the curve that is closest to y=1, which is marked on the above graph. If our curve reaches y=1, this means our class distributions do not overlap at all. Given our AUC is .7235, this is mediocre and we expect to see some decent overlap in our pdistribution. "
   ]
  },
  {
   "cell_type": "markdown",
   "metadata": {},
   "source": [
    "## P-Distribution"
   ]
  },
  {
   "cell_type": "code",
   "execution_count": 61,
   "metadata": {},
   "outputs": [
    {
     "data": {
      "image/png": "[encoded data removed]",
      "text/plain": [
       "<Figure size 720x504 with 1 Axes>"
      ]
     },
     "metadata": {
      "needs_background": "light"
     },
     "output_type": "display_data"
    }
   ],
   "source": [
    "# Create figure.\n",
    "plt.figure(figsize = (10,7))\n",
    "\n",
    "# Create two histograms of observations.\n",
    "plt.hist(pred_df[pred_df['true_values'] == 0]['pred_probs'],\n",
    "         bins = 25,\n",
    "         color = 'b',\n",
    "         alpha = 0.6,\n",
    "         label = 'Outcome = news')\n",
    "plt.hist(pred_df[pred_df['true_values'] == 1]['pred_probs'],\n",
    "         bins = 25,\n",
    "         color = 'orange',\n",
    "         alpha = 0.6,\n",
    "         label = 'Outcome = worldnews')\n",
    "\n",
    "# Add vertical line at P(Outcome = 1) = 0.5.\n",
    "plt.vlines(x = 0.5,\n",
    "           ymin = 0,\n",
    "           ymax = 65,\n",
    "           color = 'r',\n",
    "           linestyle = '--')\n",
    "\n",
    "# Add annotations for TN, FN, TP, FP.\n",
    "plt.annotate(xy = (0.04, 15),\n",
    "             s = 'TN',\n",
    "             size = 20)\n",
    "\n",
    "plt.annotate(xy = (0.1, 0),\n",
    "             s = 'FN',\n",
    "             size = 20)\n",
    "\n",
    "plt.annotate(xy = (0.85, 1),\n",
    "             s = 'TP',\n",
    "             size = 20)\n",
    "\n",
    "plt.annotate(xy = (0.53, 1),\n",
    "             s = 'FP',\n",
    "             size = 20)\n",
    "\n",
    "# Label axes.\n",
    "plt.title('Distribution of P(Outcome = r/worldnews)', fontsize = 22)\n",
    "plt.ylabel('Frequency', fontsize = 18)\n",
    "plt.xlabel('Predicted Probability that Outcome is r/worldnews', fontsize = 18)\n",
    "\n",
    "# Create legend.\n",
    "plt.legend(fontsize = 20);"
   ]
  },
  {
   "cell_type": "markdown",
   "metadata": {},
   "source": [
    "Probability Distribution) Above we can see the distributions of probability that the outcome is 1 (r/worldnews). We can also clearly see our TP,FN,FP, and TPs which gives of a better sense of how our model did. We can see that there is a ton of overlap, as we predicted by our ROC curve. there is resemblance of mediocre classification, but it does seem very muddled. "
   ]
  },
  {
   "cell_type": "markdown",
   "metadata": {},
   "source": [
    "## Conclusion and Recommendations"
   ]
  },
  {
   "cell_type": "markdown",
   "metadata": {},
   "source": [
    "After evaluating our models, we came to the conclusion that our Multinomial Naive Bayes had relatively low bias and low variance. It also had an accuracy score of 0.65 which, in the context of the problem, is not half bad. To reiterate, these subreddits are super similar. I wanted to attempt this problem statement to see if there was something I was missing all this time as to why there are two major news subreddits that seemingly post the same content. I cannot confidently say that this is a strong classifier in the context of the problem. I would recommend using it as an initial guess as to where to post an article but to also use some basic intuition when delpoying this specific model.    \n",
    "Some additional features I could add would be to access the article text by creating a soup object from the html, and appending the body text to the subreddit dataframe. Then from there vectorize and run classification.  "
   ]
  }
 ],
 "metadata": {
  "kernelspec": {
   "display_name": "Python 3",
   "language": "python",
   "name": "python3"
  },
  "language_info": {
   "codemirror_mode": {
    "name": "ipython",
    "version": 3
   },
   "file_extension": ".py",
   "mimetype": "text/x-python",
   "name": "python",
   "nbconvert_exporter": "python",
   "pygments_lexer": "ipython3",
   "version": "3.7.4"
  },
  "toc": {
   "base_numbering": 1,
   "nav_menu": {},
   "number_sections": true,
   "sideBar": true,
   "skip_h1_title": false,
   "title_cell": "Table of Contents",
   "title_sidebar": "Contents",
   "toc_cell": false,
   "toc_position": {},
   "toc_section_display": true,
   "toc_window_display": false
  }
 },
 "nbformat": 4,
 "nbformat_minor": 2
}
