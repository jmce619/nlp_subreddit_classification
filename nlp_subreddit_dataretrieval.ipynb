{
 "cells": [
  {
   "cell_type": "code",
   "execution_count": 36,
   "metadata": {},
   "outputs": [],
   "source": [
    "import requests\n",
    "import pandas as pd\n",
    "import time\n",
    "import datetime as dt\n",
    "from bs4 import BeautifulSoup"
   ]
  },
  {
   "cell_type": "code",
   "execution_count": 37,
   "metadata": {},
   "outputs": [],
   "source": [
    "def query_pushshift(subreddit, kind = 'submission', day_window = 30, n = 5):\n",
    "    SUBFIELDS = ['title', 'subreddit', 'created_utc', 'author', 'num_comments', 'score','url']\n",
    "    # establish base url and stem\n",
    "    BASE_URL = f\"https://api.pushshift.io/reddit/search/{kind}\" # also known as the \"API endpoint\" \n",
    "    stem = f\"{BASE_URL}?subreddit={subreddit}&size=500\" # always pulling max of 500\n",
    "    # instantiate empty list for temp storage\n",
    "    posts = []\n",
    "    # implement for loop with `time.sleep(2)`\n",
    "    for i in range(1, n + 1):\n",
    "        URL = \"{}&after={}d\".format(stem, day_window * i)\n",
    "        print(\"Querying from: \" + URL)\n",
    "        response = requests.get(URL)\n",
    "        assert response.status_code == 200\n",
    "        mine = response.json()['data']\n",
    "        df = pd.DataFrame.from_dict(mine)\n",
    "        posts.append(df)\n",
    "        time.sleep(2)\n",
    "    # pd.concat storage list\n",
    "    full = pd.concat(posts, sort=False)\n",
    "    # if submission\n",
    "    if kind == \"submission\":\n",
    "        # select desired columns\n",
    "        full = full[SUBFIELDS]\n",
    "        # drop duplicates\n",
    "        full.drop_duplicates(inplace = True)\n",
    "\n",
    "    full['timestamp'] = full[\"created_utc\"].map(dt.date.fromtimestamp)  \n",
    "    print(\"Query Complete!\")    \n",
    "    return full "
   ]
  },
  {
   "cell_type": "markdown",
   "metadata": {},
   "source": [
    "To note: Removing is_self is True, since the posts are linked articles that are not written by the creator of the post"
   ]
  },
  {
   "cell_type": "code",
   "execution_count": 38,
   "metadata": {
    "scrolled": true
   },
   "outputs": [
    {
     "name": "stdout",
     "output_type": "stream",
     "text": [
      "Querying from: https://api.pushshift.io/reddit/search/submission?subreddit=worldnews&size=500&after=30d\n",
      "Querying from: https://api.pushshift.io/reddit/search/submission?subreddit=worldnews&size=500&after=60d\n",
      "Querying from: https://api.pushshift.io/reddit/search/submission?subreddit=worldnews&size=500&after=90d\n",
      "Querying from: https://api.pushshift.io/reddit/search/submission?subreddit=worldnews&size=500&after=120d\n",
      "Querying from: https://api.pushshift.io/reddit/search/submission?subreddit=worldnews&size=500&after=150d\n",
      "Query Complete!\n",
      "Querying from: https://api.pushshift.io/reddit/search/submission?subreddit=news&size=500&after=30d\n",
      "Querying from: https://api.pushshift.io/reddit/search/submission?subreddit=news&size=500&after=60d\n",
      "Querying from: https://api.pushshift.io/reddit/search/submission?subreddit=news&size=500&after=90d\n",
      "Querying from: https://api.pushshift.io/reddit/search/submission?subreddit=news&size=500&after=120d\n",
      "Querying from: https://api.pushshift.io/reddit/search/submission?subreddit=news&size=500&after=150d\n",
      "Query Complete!\n"
     ]
    }
   ],
   "source": [
    "results1=query_pushshift('worldnews')\n",
    "results2=query_pushshift('news')"
   ]
  },
  {
   "cell_type": "code",
   "execution_count": 39,
   "metadata": {
    "scrolled": true
   },
   "outputs": [
    {
     "name": "stdout",
     "output_type": "stream",
     "text": [
      "(2500, 8)\n"
     ]
    },
    {
     "data": {
      "text/html": [
       "<div>\n",
       "<style scoped>\n",
       "    .dataframe tbody tr th:only-of-type {\n",
       "        vertical-align: middle;\n",
       "    }\n",
       "\n",
       "    .dataframe tbody tr th {\n",
       "        vertical-align: top;\n",
       "    }\n",
       "\n",
       "    .dataframe thead th {\n",
       "        text-align: right;\n",
       "    }\n",
       "</style>\n",
       "<table border=\"1\" class=\"dataframe\">\n",
       "  <thead>\n",
       "    <tr style=\"text-align: right;\">\n",
       "      <th></th>\n",
       "      <th>title</th>\n",
       "      <th>subreddit</th>\n",
       "      <th>created_utc</th>\n",
       "      <th>author</th>\n",
       "      <th>num_comments</th>\n",
       "      <th>score</th>\n",
       "      <th>url</th>\n",
       "      <th>timestamp</th>\n",
       "    </tr>\n",
       "  </thead>\n",
       "  <tbody>\n",
       "    <tr>\n",
       "      <th>0</th>\n",
       "      <td>@akanmaja : Hey twitz_end ✍ 👽(@twitz_end), tha...</td>\n",
       "      <td>worldnews</td>\n",
       "      <td>1577917026</td>\n",
       "      <td>micladceo</td>\n",
       "      <td>0</td>\n",
       "      <td>1</td>\n",
       "      <td>https://mobile.twitter.com/akanmaja/status/121...</td>\n",
       "      <td>2020-01-01</td>\n",
       "    </tr>\n",
       "    <tr>\n",
       "      <th>1</th>\n",
       "      <td>Former NBA Commissioner David Stern Dead at 77</td>\n",
       "      <td>worldnews</td>\n",
       "      <td>1577917066</td>\n",
       "      <td>PinheadLarry2323</td>\n",
       "      <td>2</td>\n",
       "      <td>1</td>\n",
       "      <td>https://www.tmz.com/2020/01/01/nba-commissione...</td>\n",
       "      <td>2020-01-01</td>\n",
       "    </tr>\n",
       "    <tr>\n",
       "      <th>2</th>\n",
       "      <td>إسقاط طائرة تجسسية في محور جيزان تعتبر الخامسة...</td>\n",
       "      <td>worldnews</td>\n",
       "      <td>1577917176</td>\n",
       "      <td>almshhadalyemeni</td>\n",
       "      <td>0</td>\n",
       "      <td>1</td>\n",
       "      <td>http://www.almshhadalyemeni.net/132646/</td>\n",
       "      <td>2020-01-01</td>\n",
       "    </tr>\n",
       "    <tr>\n",
       "      <th>3</th>\n",
       "      <td>Is Uber Doomed to a Point of No Return?</td>\n",
       "      <td>worldnews</td>\n",
       "      <td>1577917185</td>\n",
       "      <td>Open_c_Source</td>\n",
       "      <td>2</td>\n",
       "      <td>1</td>\n",
       "      <td>https://medium.com/@waseemezzie/uber-the-next-...</td>\n",
       "      <td>2020-01-01</td>\n",
       "    </tr>\n",
       "    <tr>\n",
       "      <th>4</th>\n",
       "      <td>Zelensky's New Year address: Everyone should a...</td>\n",
       "      <td>worldnews</td>\n",
       "      <td>1577917681</td>\n",
       "      <td>Fanrific</td>\n",
       "      <td>3</td>\n",
       "      <td>1</td>\n",
       "      <td>https://www.unian.info/society/10816211-zelens...</td>\n",
       "      <td>2020-01-01</td>\n",
       "    </tr>\n",
       "  </tbody>\n",
       "</table>\n",
       "</div>"
      ],
      "text/plain": [
       "                                               title  subreddit  created_utc  \\\n",
       "0  @akanmaja : Hey twitz_end ✍ 👽(@twitz_end), tha...  worldnews   1577917026   \n",
       "1     Former NBA Commissioner David Stern Dead at 77  worldnews   1577917066   \n",
       "2  إسقاط طائرة تجسسية في محور جيزان تعتبر الخامسة...  worldnews   1577917176   \n",
       "3            Is Uber Doomed to a Point of No Return?  worldnews   1577917185   \n",
       "4  Zelensky's New Year address: Everyone should a...  worldnews   1577917681   \n",
       "\n",
       "             author  num_comments  score  \\\n",
       "0         micladceo             0      1   \n",
       "1  PinheadLarry2323             2      1   \n",
       "2  almshhadalyemeni             0      1   \n",
       "3     Open_c_Source             2      1   \n",
       "4          Fanrific             3      1   \n",
       "\n",
       "                                                 url   timestamp  \n",
       "0  https://mobile.twitter.com/akanmaja/status/121...  2020-01-01  \n",
       "1  https://www.tmz.com/2020/01/01/nba-commissione...  2020-01-01  \n",
       "2            http://www.almshhadalyemeni.net/132646/  2020-01-01  \n",
       "3  https://medium.com/@waseemezzie/uber-the-next-...  2020-01-01  \n",
       "4  https://www.unian.info/society/10816211-zelens...  2020-01-01  "
      ]
     },
     "execution_count": 39,
     "metadata": {},
     "output_type": "execute_result"
    }
   ],
   "source": [
    "print(results1.shape)\n",
    "results1.head()"
   ]
  },
  {
   "cell_type": "code",
   "execution_count": 40,
   "metadata": {
    "scrolled": true
   },
   "outputs": [
    {
     "name": "stdout",
     "output_type": "stream",
     "text": [
      "(2500, 8)\n"
     ]
    },
    {
     "data": {
      "text/html": [
       "<div>\n",
       "<style scoped>\n",
       "    .dataframe tbody tr th:only-of-type {\n",
       "        vertical-align: middle;\n",
       "    }\n",
       "\n",
       "    .dataframe tbody tr th {\n",
       "        vertical-align: top;\n",
       "    }\n",
       "\n",
       "    .dataframe thead th {\n",
       "        text-align: right;\n",
       "    }\n",
       "</style>\n",
       "<table border=\"1\" class=\"dataframe\">\n",
       "  <thead>\n",
       "    <tr style=\"text-align: right;\">\n",
       "      <th></th>\n",
       "      <th>title</th>\n",
       "      <th>subreddit</th>\n",
       "      <th>created_utc</th>\n",
       "      <th>author</th>\n",
       "      <th>num_comments</th>\n",
       "      <th>score</th>\n",
       "      <th>url</th>\n",
       "      <th>timestamp</th>\n",
       "    </tr>\n",
       "  </thead>\n",
       "  <tbody>\n",
       "    <tr>\n",
       "      <th>0</th>\n",
       "      <td>Ask HN: Who Is Hiring January 2020</td>\n",
       "      <td>news</td>\n",
       "      <td>1577917156</td>\n",
       "      <td>121kiwi</td>\n",
       "      <td>0</td>\n",
       "      <td>1</td>\n",
       "      <td>https://121private.home.blog/2020/01/01/ask-hn...</td>\n",
       "      <td>2020-01-01</td>\n",
       "    </tr>\n",
       "    <tr>\n",
       "      <th>1</th>\n",
       "      <td>Touting 5 Million Individual Contributions, Sa...</td>\n",
       "      <td>news</td>\n",
       "      <td>1577917236</td>\n",
       "      <td>acouplewavylines</td>\n",
       "      <td>0</td>\n",
       "      <td>1</td>\n",
       "      <td>https://www.commondreams.org/news/2020/01/01/t...</td>\n",
       "      <td>2020-01-01</td>\n",
       "    </tr>\n",
       "    <tr>\n",
       "      <th>2</th>\n",
       "      <td>I Was Trained To Destroy My Opponents – El-Ruf...</td>\n",
       "      <td>news</td>\n",
       "      <td>1577917336</td>\n",
       "      <td>Gistmania</td>\n",
       "      <td>0</td>\n",
       "      <td>1</td>\n",
       "      <td>https://www.gistmania.com/talk/topic,417722.0....</td>\n",
       "      <td>2020-01-01</td>\n",
       "    </tr>\n",
       "    <tr>\n",
       "      <th>3</th>\n",
       "      <td>@Afriupdate_com: Bank Staff Reveals How He Hel...</td>\n",
       "      <td>news</td>\n",
       "      <td>1577917413</td>\n",
       "      <td>Afriupdatenews247</td>\n",
       "      <td>0</td>\n",
       "      <td>1</td>\n",
       "      <td>https://mobile.twitter.com/Afriupdate_com/stat...</td>\n",
       "      <td>2020-01-01</td>\n",
       "    </tr>\n",
       "    <tr>\n",
       "      <th>4</th>\n",
       "      <td>Black guest at a Portland Marriott hotel claim...</td>\n",
       "      <td>news</td>\n",
       "      <td>1577917483</td>\n",
       "      <td>AlohaWorld18</td>\n",
       "      <td>527</td>\n",
       "      <td>1</td>\n",
       "      <td>https://www.oregonlive.com/news/2019/12/black-...</td>\n",
       "      <td>2020-01-01</td>\n",
       "    </tr>\n",
       "  </tbody>\n",
       "</table>\n",
       "</div>"
      ],
      "text/plain": [
       "                                               title subreddit  created_utc  \\\n",
       "0                 Ask HN: Who Is Hiring January 2020      news   1577917156   \n",
       "1  Touting 5 Million Individual Contributions, Sa...      news   1577917236   \n",
       "2  I Was Trained To Destroy My Opponents – El-Ruf...      news   1577917336   \n",
       "3  @Afriupdate_com: Bank Staff Reveals How He Hel...      news   1577917413   \n",
       "4  Black guest at a Portland Marriott hotel claim...      news   1577917483   \n",
       "\n",
       "              author  num_comments  score  \\\n",
       "0            121kiwi             0      1   \n",
       "1   acouplewavylines             0      1   \n",
       "2          Gistmania             0      1   \n",
       "3  Afriupdatenews247             0      1   \n",
       "4       AlohaWorld18           527      1   \n",
       "\n",
       "                                                 url   timestamp  \n",
       "0  https://121private.home.blog/2020/01/01/ask-hn...  2020-01-01  \n",
       "1  https://www.commondreams.org/news/2020/01/01/t...  2020-01-01  \n",
       "2  https://www.gistmania.com/talk/topic,417722.0....  2020-01-01  \n",
       "3  https://mobile.twitter.com/Afriupdate_com/stat...  2020-01-01  \n",
       "4  https://www.oregonlive.com/news/2019/12/black-...  2020-01-01  "
      ]
     },
     "execution_count": 40,
     "metadata": {},
     "output_type": "execute_result"
    }
   ],
   "source": [
    "print(results2.shape)\n",
    "results2.head()"
   ]
  },
  {
   "cell_type": "code",
   "execution_count": 41,
   "metadata": {},
   "outputs": [],
   "source": [
    "data=pd.concat([results1,results2],ignore_index=True)"
   ]
  },
  {
   "cell_type": "code",
   "execution_count": 42,
   "metadata": {},
   "outputs": [
    {
     "data": {
      "text/plain": [
       "(5000, 8)"
      ]
     },
     "execution_count": 42,
     "metadata": {},
     "output_type": "execute_result"
    }
   ],
   "source": [
    "data.shape"
   ]
  },
  {
   "cell_type": "code",
   "execution_count": null,
   "metadata": {},
   "outputs": [],
   "source": []
  },
  {
   "cell_type": "code",
   "execution_count": 43,
   "metadata": {},
   "outputs": [],
   "source": [
    "data.to_csv('./datasets/subredditdata.csv')"
   ]
  },
  {
   "cell_type": "code",
   "execution_count": null,
   "metadata": {},
   "outputs": [],
   "source": [
    "# for i in results1['url']:\n",
    "#     url=i\n",
    "#     res=requests.get(url)\n",
    "#     print(url)\n",
    "#     if res.status_code == 200:\n",
    "#         soup=BeautifulSoup(res.content,'lxml')\n",
    "        \n",
    "#         x=soup.find_all('p')\n",
    "#         articletext=''\n",
    "#         for j in x:\n",
    "            \n",
    "#             articletext+=j.text\n",
    "    \n",
    "#     results1['selftext'][i]=articletext\n",
    "#     time.sleep(2)\n"
   ]
  }
 ],
 "metadata": {
  "kernelspec": {
   "display_name": "Python 3",
   "language": "python",
   "name": "python3"
  },
  "language_info": {
   "codemirror_mode": {
    "name": "ipython",
    "version": 3
   },
   "file_extension": ".py",
   "mimetype": "text/x-python",
   "name": "python",
   "nbconvert_exporter": "python",
   "pygments_lexer": "ipython3",
   "version": "3.7.4"
  }
 },
 "nbformat": 4,
 "nbformat_minor": 2
}
